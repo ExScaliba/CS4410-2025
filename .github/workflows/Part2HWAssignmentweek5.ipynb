{
 "cells": [
  {
   "cell_type": "code",
   "execution_count": 3,
   "id": "ae84b040-e879-4f92-822e-324db96599a4",
   "metadata": {},
   "outputs": [
    {
     "name": "stdout",
     "output_type": "stream",
     "text": [
      "Without PCA:\n",
      "Accuracy: 0.9159\n",
      "Time taken: 6.1767 seconds\n",
      "\n",
      "With PCA:\n",
      "Accuracy: 0.9221\n",
      "Time taken: 4.8411 seconds\n"
     ]
    }
   ],
   "source": [
    "import time\n",
    "import numpy as np\n",
    "from sklearn.datasets import fetch_openml\n",
    "from sklearn.model_selection import train_test_split\n",
    "from sklearn.preprocessing import StandardScaler\n",
    "from sklearn.decomposition import PCA\n",
    "from sklearn.linear_model import LogisticRegression\n",
    "from sklearn.metrics import accuracy_score\n",
    "\n",
    "# Load the MNIST dataset\n",
    "mnist = fetch_openml('mnist_784', version=1, return_X_y=True)\n",
    "X, y = mnist\n",
    "\n",
    "# Split the data into training and testing sets\n",
    "X_train, X_test, y_train, y_test = train_test_split(X, y, test_size=0.2, random_state=42)\n",
    "\n",
    "# Standardize the data\n",
    "scaler = StandardScaler()\n",
    "X_train_scaled = scaler.fit_transform(X_train)\n",
    "X_test_scaled = scaler.transform(X_test)\n",
    "\n",
    "# Logistic Regression without PCA\n",
    "start_time_no_pca = time.time()\n",
    "logisticRegr_no_pca = LogisticRegression(solver='lbfgs', max_iter=1000)\n",
    "logisticRegr_no_pca.fit(X_train_scaled, y_train)\n",
    "y_pred_no_pca = logisticRegr_no_pca.predict(X_test_scaled)\n",
    "accuracy_no_pca = accuracy_score(y_test, y_pred_no_pca)\n",
    "time_no_pca = time.time() - start_time_no_pca\n",
    "\n",
    "# Apply PCA\n",
    "pca = PCA(n_components=0.95)\n",
    "X_train_pca = pca.fit_transform(X_train_scaled)\n",
    "X_test_pca = pca.transform(X_test_scaled)\n",
    "\n",
    "# Logistic Regression with PCA\n",
    "start_time_with_pca = time.time()\n",
    "logisticRegr_with_pca = LogisticRegression(solver='lbfgs', max_iter=1000)\n",
    "logisticRegr_with_pca.fit(X_train_pca, y_train)\n",
    "y_pred_with_pca = logisticRegr_with_pca.predict(X_test_pca)\n",
    "accuracy_with_pca = accuracy_score(y_test, y_pred_with_pca)\n",
    "time_with_pca = time.time() - start_time_with_pca\n",
    "\n",
    "# Output results\n",
    "print(\"Without PCA:\")\n",
    "print(f\"Accuracy: {accuracy_no_pca:.4f}\")\n",
    "print(f\"Time taken: {time_no_pca:.4f} seconds\")\n",
    "\n",
    "print(\"\\nWith PCA:\")\n",
    "print(f\"Accuracy: {accuracy_with_pca:.4f}\")\n",
    "print(f\"Time taken: {time_with_pca:.4f} seconds\")"
   ]
  },
  {
   "cell_type": "code",
   "execution_count": null,
   "id": "82c9681a-d67a-4e49-bc62-f101e36cb4c0",
   "metadata": {},
   "outputs": [],
   "source": []
  }
 ],
 "metadata": {
  "kernelspec": {
   "display_name": "Python [conda env:base] *",
   "language": "python",
   "name": "conda-base-py"
  },
  "language_info": {
   "codemirror_mode": {
    "name": "ipython",
    "version": 3
   },
   "file_extension": ".py",
   "mimetype": "text/x-python",
   "name": "python",
   "nbconvert_exporter": "python",
   "pygments_lexer": "ipython3",
   "version": "3.12.7"
  }
 },
 "nbformat": 4,
 "nbformat_minor": 5
}
